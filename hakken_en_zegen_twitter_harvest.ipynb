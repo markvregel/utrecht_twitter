{
 "metadata": {
  "name": "",
  "signature": "sha256:f00025d8b52d714b2daba4d25d8988c9d3d9e5d928048ab69e26c84470ead503"
 },
 "nbformat": 3,
 "nbformat_minor": 0,
 "worksheets": [
  {
   "cells": [
    {
     "cell_type": "code",
     "collapsed": false,
     "input": [
      "from twython import TwythonStreamer\n",
      "import string, json, pprint\n",
      "import urllib\n",
      "from datetime import datetime\n",
      "from datetime import date\n",
      "from time import *\n",
      "import string, os, sys, subprocess, time\n",
      "import psycopg2\n",
      "\n",
      "\n",
      "## just some date and time hack to generate an unique filename if needed\n",
      "output_file = 'result_'+datetime.now().strftime('%Y%m%d-%H%M%S')+'.csv' \n",
      "\n",
      "\n",
      "##codes to access twitter API. \n",
      "APP_KEY = 'Cy41mEWp99uUKj4vUqy9yaqAj'\n",
      "APP_SECRET = 'XILL4zyJJpvTiGM8yvBe3X03btSr1F15BN3lrivizMwR6Juzri'\n",
      "OAUTH_TOKEN = '4832205059-ApDuweInbtwMqrvbF2h4elAYF0AqfOjVVLamiC2'\n",
      "OAUTH_TOKEN_SECRET = '3GnztBEdIWVkZvUTF5CJTGHsu3P7TLmqwUkKOYKHwwNpV'\n",
      "\n",
      "#Class to process JSON data comming from the twitter stream API. Extract relevant fields\n",
      "class MyStreamer(TwythonStreamer):\n",
      "    def on_success(self, data):\n",
      "         tweet_lat = 0.0\n",
      "         tweet_lon = 0.0\n",
      "         tweet_name = \"\"\n",
      "         retweet_count = 0\n",
      "\n",
      "         if 'id' in data:\n",
      "               tweet_id = data['id']\n",
      "         if 'text' in data:\n",
      "               tweet_text = data['text'].encode('utf-8').replace(\"'\",\"''\").replace(';','')\n",
      "         if 'coordinates' in data:    \n",
      "               geo = data['coordinates']\n",
      "               if not geo is None:\n",
      "                    latlon = geo['coordinates']\n",
      "                    tweet_lon = latlon[0]\n",
      "                    tweet_lat= latlon[1]\n",
      "         if 'created_at' in data:\n",
      "                    dt = data['created_at']\n",
      "                    tweet_datetime = datetime.strptime(dt, '%a %b %d %H:%M:%S +0000 %Y')\n",
      "\n",
      "         if 'user' in data:\n",
      "                    users = data['user']\n",
      "                    tweet_name = users['screen_name']\n",
      "\n",
      "         if 'retweet_count' in data:\n",
      "                    retweet_count = data['retweet_count']\n",
      "                    \n",
      "         if tweet_lat != 0:\n",
      "                    #some elementary output to console \n",
      "                    tweet_text=tweet_text.encode ('ascii','replace')\n",
      "                    string_to_write = str(tweet_datetime)+\", \"+str(tweet_lat)+\", \"+str(tweet_lon)+\": \"+str(tweet_text)\n",
      "                    print string_to_write\n",
      "                    write_tweet(string_to_write)\n",
      "                 \n",
      "    def on_error(self, status_code, data):\n",
      "         print \"OOPS FOUTJE: \" +str(status_code)\n",
      "         #self.disconnect"
     ],
     "language": "python",
     "metadata": {},
     "outputs": [],
     "prompt_number": 7
    },
    {
     "cell_type": "code",
     "collapsed": false,
     "input": [
      "##main procedure\n",
      "def main():\n",
      "    try:\n",
      "        stream = MyStreamer(APP_KEY, APP_SECRET,OAUTH_TOKEN, OAUTH_TOKEN_SECRET)\n",
      "        print 'Connecting to twitter: will take a minute'\n",
      "    except ValueError:\n",
      "        print 'OOPS! that hurts, something went wrong while making connection with Twitter: '+str(ValueError)\n",
      "    #global target\n",
      "    \n",
      "    \n",
      "    # Filter based on bounding box see twitter api documentation for more info\n",
      "    try:\n",
      "        stream.statuses.filter(locations='3.00,50.00,7.35,53.65')\n",
      "    except ValueError:\n",
      "        print 'OOPS! that hurts, something went wrong while getting the stream from Twitter: '+str(ValueError)\n",
      "    \n",
      "\n",
      "\n",
      "\n",
      "                \n",
      "if __name__ == '__main__':\n",
      "    def write_tweet(t):\n",
      "        output_file = 'test.csv'\n",
      "        target = open(output_file, 'a')\n",
      "        target.write(t)\n",
      "        target.write('\\n')\n",
      "        target.close()\n",
      "    main()\n",
      "    \n",
      "\n",
      "    \n",
      "\n",
      "    \n",
      "\n",
      "\n",
      "\n"
     ],
     "language": "python",
     "metadata": {},
     "outputs": [
      {
       "output_type": "stream",
       "stream": "stdout",
       "text": [
        "Connecting to twitter: will take a minute\n",
        "OOPS! that hurts, something went wrong while getting the stream from Twitter: <type 'exceptions.ValueError'>"
       ]
      },
      {
       "output_type": "stream",
       "stream": "stdout",
       "text": [
        "\n"
       ]
      }
     ],
     "prompt_number": 10
    },
    {
     "cell_type": "code",
     "collapsed": false,
     "input": [
      "main()"
     ],
     "language": "python",
     "metadata": {},
     "outputs": [
      {
       "ename": "NameError",
       "evalue": "name 'main' is not defined",
       "output_type": "pyerr",
       "traceback": [
        "\u001b[0;31m---------------------------------------------------------------------------\u001b[0m\n\u001b[0;31mNameError\u001b[0m                                 Traceback (most recent call last)",
        "\u001b[0;32m<ipython-input-1-58ca95c5b364>\u001b[0m in \u001b[0;36m<module>\u001b[0;34m()\u001b[0m\n\u001b[0;32m----> 1\u001b[0;31m \u001b[0mmain\u001b[0m\u001b[0;34m(\u001b[0m\u001b[0;34m)\u001b[0m\u001b[0;34m\u001b[0m\u001b[0m\n\u001b[0m",
        "\u001b[0;31mNameError\u001b[0m: name 'main' is not defined"
       ]
      }
     ],
     "prompt_number": 1
    },
    {
     "cell_type": "code",
     "collapsed": false,
     "input": [],
     "language": "python",
     "metadata": {},
     "outputs": [],
     "prompt_number": 2
    },
    {
     "cell_type": "code",
     "collapsed": false,
     "input": [],
     "language": "python",
     "metadata": {},
     "outputs": []
    }
   ],
   "metadata": {}
  }
 ]
}