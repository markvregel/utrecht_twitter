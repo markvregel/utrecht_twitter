{
 "metadata": {
  "name": "",
  "signature": "sha256:6dcab1a63a964d3f93d9c5a63a91586fd8747b2963cf9bab995828fa97979793"
 },
 "nbformat": 3,
 "nbformat_minor": 0,
 "worksheets": [
  {
   "cells": [
    {
     "cell_type": "heading",
     "level": 1,
     "metadata": {},
     "source": [
      "Utrecht twitter"
     ]
    },
    {
     "cell_type": "heading",
     "level": 6,
     "metadata": {},
     "source": [
      "Hakken en zagen\n",
      "\n",
      "Mark ten Vregelaar and Jos Goris\n",
      "\n",
      "21 January 2016"
     ]
    },
    {
     "cell_type": "code",
     "collapsed": false,
     "input": [
      "from twython import Twython\n",
      "import json\n",
      "import datetime \n",
      "import csv\n",
      "import shapefile as shp"
     ],
     "language": "python",
     "metadata": {},
     "outputs": [],
     "prompt_number": 73
    },
    {
     "cell_type": "code",
     "collapsed": false,
     "input": [
      "##codes to access twitter API. \n",
      "APP_KEY = 'Cy41mEWp99uUKj4vUqy9yaqAj'\n",
      "APP_SECRET = 'XILL4zyJJpvTiGM8yvBe3X03btSr1F15BN3lrivizMwR6Juzri'\n",
      "OAUTH_TOKEN = '4832205059-ApDuweInbtwMqrvbF2h4elAYF0AqfOjVVLamiC2'\n",
      "OAUTH_TOKEN_SECRET = '3GnztBEdIWVkZvUTF5CJTGHsu3P7TLmqwUkKOYKHwwNpV'\n",
      "\n",
      "##initiating Twython object \n",
      "twitter = Twython(APP_KEY, APP_SECRET, OAUTH_TOKEN, OAUTH_TOKEN_SECRET)\n",
      "\n",
      "search_results = twitter.search(q='', count=100,geocode=\"52.06839,5.10569,15km\")\n",
      "\n",
      "#for result in search_results['statuses']:\n",
      "#    print result\n",
      "    \n",
      "output_file = 'result.csv' \n",
      "target = open(output_file, 'a')   \n",
      "\n",
      "##parsing out \n",
      "for tweet in search_results[\"statuses\"]:\n",
      "    username =  tweet['user']['screen_name']\n",
      "    followers_count =  tweet['user']['followers_count']\n",
      "    tweettext = tweet['text']\n",
      "    time = tweet['created_at']\n",
      "    coordinates = tweet['coordinates']\n",
      "    if coordinates != None:\n",
      "        coordinates = tweet['coordinates']['coordinates']\n",
      "        target.write(username+','+str(followers_count)+','+str(coordinates[0])+','+str(coordinates[1])+','+str(time)) \n",
      "        target.write('\\n') #produce a tab delimited file\n",
      "        \n",
      "target.close()\n",
      "# save to shapefile\n",
      "out_file = 'utrecht_tweets.shp'\n",
      "\n",
      "user=[]\n",
      "count=[]\n",
      "lon=[]\n",
      "lat=[]\n",
      "time=[]\n",
      "with open('result.csv', 'rb') as csvfile:\n",
      "    r = csv.reader(csvfile, delimiter=',')\n",
      "    for i,row in enumerate(r):\n",
      "        if i > 0:\n",
      "            user.append(row[0])\n",
      "            count.append(row[1])\n",
      "            lon.append(float(row[2]))\n",
      "            lat.append(float(row[3]))\n",
      "            time.append(row[4])\n",
      "\n",
      "w = shp.Writer(shp.POINT)\n",
      "w.autoBalance = 1\n",
      "w.field('user','C',20)\n",
      "w.field('count','C',140)\n",
      "w.field('lon','F',10,8)\n",
      "w.field('lat','F',10,8)\n",
      "w.field('time','C',100)\n",
      "for j,k in enumerate(lon):\n",
      "    w.point(k,lat[j])\n",
      "    w.record(user[j], count[j], k,lat[j],time[j])\n",
      "w.save(out_file)"
     ],
     "language": "python",
     "metadata": {},
     "outputs": [],
     "prompt_number": 78
    },
    {
     "cell_type": "code",
     "collapsed": false,
     "input": [],
     "language": "python",
     "metadata": {},
     "outputs": []
    }
   ],
   "metadata": {}
  }
 ]
}